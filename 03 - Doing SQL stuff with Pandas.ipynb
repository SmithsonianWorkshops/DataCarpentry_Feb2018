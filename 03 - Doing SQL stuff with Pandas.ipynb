{
 "cells": [
  {
   "cell_type": "markdown",
   "metadata": {},
   "source": [
    "# Doing SQL Commands with Pandas"
   ]
  },
  {
   "cell_type": "code",
   "execution_count": 1,
   "metadata": {},
   "outputs": [],
   "source": [
    "import pandas as pd"
   ]
  },
  {
   "cell_type": "code",
   "execution_count": 2,
   "metadata": {},
   "outputs": [],
   "source": [
    "surveys_df = pd.read_csv('surveys.csv')"
   ]
  },
  {
   "cell_type": "code",
   "execution_count": 3,
   "metadata": {},
   "outputs": [
    {
     "name": "stdout",
     "output_type": "stream",
     "text": [
      "<class 'pandas.core.frame.DataFrame'>\n",
      "RangeIndex: 35549 entries, 0 to 35548\n",
      "Data columns (total 9 columns):\n",
      "record_id          35549 non-null int64\n",
      "month              35549 non-null int64\n",
      "day                35549 non-null int64\n",
      "year               35549 non-null int64\n",
      "plot_id            35549 non-null int64\n",
      "species_id         34786 non-null object\n",
      "sex                33038 non-null object\n",
      "hindfoot_length    31438 non-null float64\n",
      "weight             32283 non-null float64\n",
      "dtypes: float64(2), int64(5), object(2)\n",
      "memory usage: 2.4+ MB\n",
      "None\n"
     ]
    }
   ],
   "source": [
    "print(surveys_df.info())"
   ]
  },
  {
   "cell_type": "markdown",
   "metadata": {},
   "source": [
    "## how to perform a WHERE operation"
   ]
  },
  {
   "cell_type": "code",
   "execution_count": 4,
   "metadata": {},
   "outputs": [
    {
     "name": "stdout",
     "output_type": "stream",
     "text": [
      "   record_id  month  day  year  plot_id species_id sex  hindfoot_length  \\\n",
      "2          3      7   16  1977        2         DM   F             37.0   \n",
      "3          4      7   16  1977        7         DM   M             36.0   \n",
      "4          5      7   16  1977        3         DM   M             35.0   \n",
      "7          8      7   16  1977        1         DM   M             37.0   \n",
      "8          9      7   16  1977        1         DM   F             34.0   \n",
      "\n",
      "   weight  \n",
      "2     NaN  \n",
      "3     NaN  \n",
      "4     NaN  \n",
      "7     NaN  \n",
      "8     NaN  \n"
     ]
    }
   ],
   "source": [
    "print(surveys_df[surveys_df['species_id'] == 'DM'].head())"
   ]
  },
  {
   "cell_type": "code",
   "execution_count": 7,
   "metadata": {},
   "outputs": [
    {
     "name": "stdout",
     "output_type": "stream",
     "text": [
      "0    False\n",
      "1    False\n",
      "2     True\n",
      "3     True\n",
      "4     True\n",
      "Name: species_id, dtype: bool\n"
     ]
    }
   ],
   "source": [
    "species_dm = surveys_df['species_id'] == 'DM'\n",
    "print(species_dm.head())"
   ]
  },
  {
   "cell_type": "code",
   "execution_count": 10,
   "metadata": {},
   "outputs": [
    {
     "name": "stdout",
     "output_type": "stream",
     "text": [
      "   record_id  month  day  year  plot_id species_id sex  hindfoot_length  \\\n",
      "2          3      7   16  1977        2         DM   F             37.0   \n",
      "3          4      7   16  1977        7         DM   M             36.0   \n",
      "4          5      7   16  1977        3         DM   M             35.0   \n",
      "7          8      7   16  1977        1         DM   M             37.0   \n",
      "8          9      7   16  1977        1         DM   F             34.0   \n",
      "\n",
      "   weight  \n",
      "2     NaN  \n",
      "3     NaN  \n",
      "4     NaN  \n",
      "7     NaN  \n",
      "8     NaN  \n"
     ]
    }
   ],
   "source": [
    "print(surveys_df[species_dm].head())"
   ]
  },
  {
   "cell_type": "markdown",
   "metadata": {},
   "source": [
    "## Dealing with NULL values"
   ]
  },
  {
   "cell_type": "code",
   "execution_count": 11,
   "metadata": {},
   "outputs": [
    {
     "name": "stdout",
     "output_type": "stream",
     "text": [
      "0    True\n",
      "1    True\n",
      "2    True\n",
      "3    True\n",
      "4    True\n",
      "Name: weight, dtype: bool\n"
     ]
    }
   ],
   "source": [
    "null_weight = pd.isnull(surveys_df['weight'])\n",
    "print(null_weight.head())"
   ]
  },
  {
   "cell_type": "markdown",
   "metadata": {},
   "source": [
    "## Combining multiple WHERE terms"
   ]
  },
  {
   "cell_type": "code",
   "execution_count": 14,
   "metadata": {},
   "outputs": [
    {
     "name": "stdout",
     "output_type": "stream",
     "text": [
      "13528\n"
     ]
    }
   ],
   "source": [
    "print(len(surveys_df[null_weight | species_dm]))"
   ]
  },
  {
   "cell_type": "code",
   "execution_count": 15,
   "metadata": {},
   "outputs": [
    {
     "name": "stdout",
     "output_type": "stream",
     "text": [
      "334\n"
     ]
    }
   ],
   "source": [
    "print(len(surveys_df[null_weight & species_dm]))"
   ]
  },
  {
   "cell_type": "markdown",
   "metadata": {},
   "source": [
    "## Sorting like with ORDER BY"
   ]
  },
  {
   "cell_type": "code",
   "execution_count": 17,
   "metadata": {},
   "outputs": [
    {
     "name": "stdout",
     "output_type": "stream",
     "text": [
      "       record_id  month  day  year  plot_id species_id  sex  hindfoot_length  \\\n",
      "2              3      7   16  1977        2         DM    F             37.0   \n",
      "132          133      8   21  1977       15         DM    M             37.0   \n",
      "131          132      8   21  1977       22         DM    F             33.0   \n",
      "130          131      8   21  1977       22         DM    M             37.0   \n",
      "129          130      8   21  1977       16         DM    F             34.0   \n",
      "128          129      8   21  1977       14         DM    F             34.0   \n",
      "127          128      8   21  1977       15         DM    M             34.0   \n",
      "126          127      8   21  1977       14         DM    M             33.0   \n",
      "134          135      8   21  1977       15         DM    F             35.0   \n",
      "125          126      8   21  1977       20         DM    F             30.0   \n",
      "123          124      8   21  1977       14         DM    M             36.0   \n",
      "121          122      8   21  1977       22         DM    F             33.0   \n",
      "119          120      8   21  1977       20         DM    M             35.0   \n",
      "118          119      8   21  1977       20         DM    M             35.0   \n",
      "117          118      8   21  1977       17         DM    M             33.0   \n",
      "114          115      8   21  1977       21         DM    M             34.0   \n",
      "113          114      8   21  1977       15         DM    F             32.0   \n",
      "124          125      8   21  1977       22         DM    M             35.0   \n",
      "136          137      8   21  1977       20         DM    F             35.0   \n",
      "137          138      8   21  1977       22         DM    M             37.0   \n",
      "139          140      8   21  1977       20         DM    M             33.0   \n",
      "289          290     10   17  1977       17         DM    F             33.0   \n",
      "229          230      9   13  1977       15         DM  NaN              NaN   \n",
      "226          227      9   13  1977       15         DM  NaN              NaN   \n",
      "224          225      9   13  1977       15         DM  NaN              NaN   \n",
      "220          221      9   13  1977        3         DM  NaN              NaN   \n",
      "168          169      9   11  1977        5         DM    M             37.0   \n",
      "159          160      9   11  1977       21         DM    M             37.0   \n",
      "155          156      8   21  1977       21         DM    M             35.0   \n",
      "151          152      8   21  1977       14         DM    M             38.0   \n",
      "...          ...    ...  ...   ...      ...        ...  ...              ...   \n",
      "27600      27601      3    2  1998       11         DM    M             36.0   \n",
      "27601      27602      3    2  1998       14         DM    M             37.0   \n",
      "27607      27608      3    2  1998        4         DM    F             36.0   \n",
      "27609      27610      3    2  1998       11         DM    M             35.0   \n",
      "27611      27612      3    2  1998        4         DM    M             37.0   \n",
      "27613      27614      3    2  1998       11         DM    M             36.0   \n",
      "27614      27615      3    2  1998       14         DM    F             35.0   \n",
      "27615      27616      3    2  1998        4         DM    M             37.0   \n",
      "27589      27590      3    1  1998        1         DM    F             37.0   \n",
      "31438      31439      9   30  2000       24         DM  NaN              NaN   \n",
      "31702      31703     12   23  2000       14         DM    F             34.0   \n",
      "30536      30537      3    5  2000        9         DM    M             35.0   \n",
      "30828      30829      6    4  2000        4         DM    F             39.0   \n",
      "33066      33067     11   17  2001       17         DM  NaN              NaN   \n",
      "32821      32822     10   13  2001        2         DM    F             36.0   \n",
      "32736      32737      9   23  2001       11         DM    M             37.0   \n",
      "32064      32065      5   26  2001       17         DM    M             35.0   \n",
      "32055      32056      5   26  2001       22         DM    F             36.0   \n",
      "32202      32203      6   25  2001       22         DM    F             37.0   \n",
      "32007      32008      4   22  2001        9         DM    F             36.0   \n",
      "31900      31901      3   25  2001        9         DM    F             37.0   \n",
      "31872      31873      3   24  2001       17         DM    M             36.0   \n",
      "31800      31801      3    3  2001       17         DM    M             38.0   \n",
      "32008      32009      4   22  2001        9         DM    M             36.0   \n",
      "34950      34951     10    6  2002       14         DM    F             36.0   \n",
      "33793      33794      4   16  2002        8         DM    M             35.0   \n",
      "34698      34699      9   10  2002       15         DM    F             38.0   \n",
      "34707      34708      9   10  2002       14         DM    M             35.0   \n",
      "34724      34725      9   10  2002        9         DM    M             38.0   \n",
      "35088      35089     11   10  2002       11         DM    F             35.0   \n",
      "\n",
      "       weight  \n",
      "2         NaN  \n",
      "132       NaN  \n",
      "131       NaN  \n",
      "130       NaN  \n",
      "129       NaN  \n",
      "128       NaN  \n",
      "127       NaN  \n",
      "126       NaN  \n",
      "134       NaN  \n",
      "125       NaN  \n",
      "123       NaN  \n",
      "121       NaN  \n",
      "119       NaN  \n",
      "118       NaN  \n",
      "117       NaN  \n",
      "114       NaN  \n",
      "113       NaN  \n",
      "124       NaN  \n",
      "136       NaN  \n",
      "137       NaN  \n",
      "139       NaN  \n",
      "289       NaN  \n",
      "229       NaN  \n",
      "226       NaN  \n",
      "224       NaN  \n",
      "220       NaN  \n",
      "168       NaN  \n",
      "159       NaN  \n",
      "155       NaN  \n",
      "151       NaN  \n",
      "...       ...  \n",
      "27600     NaN  \n",
      "27601     NaN  \n",
      "27607     NaN  \n",
      "27609     NaN  \n",
      "27611     NaN  \n",
      "27613     NaN  \n",
      "27614     NaN  \n",
      "27615     NaN  \n",
      "27589     NaN  \n",
      "31438     NaN  \n",
      "31702     NaN  \n",
      "30536     NaN  \n",
      "30828     NaN  \n",
      "33066     NaN  \n",
      "32821     NaN  \n",
      "32736     NaN  \n",
      "32064     NaN  \n",
      "32055     NaN  \n",
      "32202     NaN  \n",
      "32007     NaN  \n",
      "31900     NaN  \n",
      "31872     NaN  \n",
      "31800     NaN  \n",
      "32008     NaN  \n",
      "34950     NaN  \n",
      "33793     NaN  \n",
      "34698     NaN  \n",
      "34707     NaN  \n",
      "34724     NaN  \n",
      "35088     NaN  \n",
      "\n",
      "[334 rows x 9 columns]\n"
     ]
    }
   ],
   "source": [
    "print(surveys_df[null_weight & species_dm].sort_values('year'))"
   ]
  },
  {
   "cell_type": "code",
   "execution_count": 19,
   "metadata": {},
   "outputs": [
    {
     "name": "stdout",
     "output_type": "stream",
     "text": [
      "       record_id  month  day  year  plot_id species_id  sex  hindfoot_length  \\\n",
      "35088      35089     11   10  2002       11         DM    F             35.0   \n",
      "34950      34951     10    6  2002       14         DM    F             36.0   \n",
      "34724      34725      9   10  2002        9         DM    M             38.0   \n",
      "34707      34708      9   10  2002       14         DM    M             35.0   \n",
      "34698      34699      9   10  2002       15         DM    F             38.0   \n",
      "33793      33794      4   16  2002        8         DM    M             35.0   \n",
      "32055      32056      5   26  2001       22         DM    F             36.0   \n",
      "31872      31873      3   24  2001       17         DM    M             36.0   \n",
      "31900      31901      3   25  2001        9         DM    F             37.0   \n",
      "32007      32008      4   22  2001        9         DM    F             36.0   \n",
      "32008      32009      4   22  2001        9         DM    M             36.0   \n",
      "31800      31801      3    3  2001       17         DM    M             38.0   \n",
      "32064      32065      5   26  2001       17         DM    M             35.0   \n",
      "32736      32737      9   23  2001       11         DM    M             37.0   \n",
      "32821      32822     10   13  2001        2         DM    F             36.0   \n",
      "33066      33067     11   17  2001       17         DM  NaN              NaN   \n",
      "32202      32203      6   25  2001       22         DM    F             37.0   \n",
      "31702      31703     12   23  2000       14         DM    F             34.0   \n",
      "31438      31439      9   30  2000       24         DM  NaN              NaN   \n",
      "30828      30829      6    4  2000        4         DM    F             39.0   \n",
      "30536      30537      3    5  2000        9         DM    M             35.0   \n",
      "27607      27608      3    2  1998        4         DM    F             36.0   \n",
      "27591      27592      3    1  1998       12         DM    F             35.0   \n",
      "27595      27596      3    1  1998       12         DM    M             36.0   \n",
      "27596      27597      3    1  1998       17         DM    F             35.0   \n",
      "27600      27601      3    2  1998       11         DM    M             36.0   \n",
      "27601      27602      3    2  1998       14         DM    M             37.0   \n",
      "27614      27615      3    2  1998       14         DM    F             35.0   \n",
      "27609      27610      3    2  1998       11         DM    M             35.0   \n",
      "27611      27612      3    2  1998        4         DM    M             37.0   \n",
      "...          ...    ...  ...   ...      ...        ...  ...              ...   \n",
      "151          152      8   21  1977       14         DM    M             38.0   \n",
      "155          156      8   21  1977       21         DM    M             35.0   \n",
      "159          160      9   11  1977       21         DM    M             37.0   \n",
      "168          169      9   11  1977        5         DM    M             37.0   \n",
      "220          221      9   13  1977        3         DM  NaN              NaN   \n",
      "224          225      9   13  1977       15         DM  NaN              NaN   \n",
      "226          227      9   13  1977       15         DM  NaN              NaN   \n",
      "229          230      9   13  1977       15         DM  NaN              NaN   \n",
      "289          290     10   17  1977       17         DM    F             33.0   \n",
      "139          140      8   21  1977       20         DM    M             33.0   \n",
      "137          138      8   21  1977       22         DM    M             37.0   \n",
      "136          137      8   21  1977       20         DM    F             35.0   \n",
      "124          125      8   21  1977       22         DM    M             35.0   \n",
      "114          115      8   21  1977       21         DM    M             34.0   \n",
      "117          118      8   21  1977       17         DM    M             33.0   \n",
      "118          119      8   21  1977       20         DM    M             35.0   \n",
      "119          120      8   21  1977       20         DM    M             35.0   \n",
      "121          122      8   21  1977       22         DM    F             33.0   \n",
      "122          123      8   21  1977       17         DM    M             37.0   \n",
      "123          124      8   21  1977       14         DM    M             36.0   \n",
      "125          126      8   21  1977       20         DM    F             30.0   \n",
      "134          135      8   21  1977       15         DM    F             35.0   \n",
      "126          127      8   21  1977       14         DM    M             33.0   \n",
      "127          128      8   21  1977       15         DM    M             34.0   \n",
      "128          129      8   21  1977       14         DM    F             34.0   \n",
      "129          130      8   21  1977       16         DM    F             34.0   \n",
      "130          131      8   21  1977       22         DM    M             37.0   \n",
      "131          132      8   21  1977       22         DM    F             33.0   \n",
      "132          133      8   21  1977       15         DM    M             37.0   \n",
      "2              3      7   16  1977        2         DM    F             37.0   \n",
      "\n",
      "       weight  \n",
      "35088     NaN  \n",
      "34950     NaN  \n",
      "34724     NaN  \n",
      "34707     NaN  \n",
      "34698     NaN  \n",
      "33793     NaN  \n",
      "32055     NaN  \n",
      "31872     NaN  \n",
      "31900     NaN  \n",
      "32007     NaN  \n",
      "32008     NaN  \n",
      "31800     NaN  \n",
      "32064     NaN  \n",
      "32736     NaN  \n",
      "32821     NaN  \n",
      "33066     NaN  \n",
      "32202     NaN  \n",
      "31702     NaN  \n",
      "31438     NaN  \n",
      "30828     NaN  \n",
      "30536     NaN  \n",
      "27607     NaN  \n",
      "27591     NaN  \n",
      "27595     NaN  \n",
      "27596     NaN  \n",
      "27600     NaN  \n",
      "27601     NaN  \n",
      "27614     NaN  \n",
      "27609     NaN  \n",
      "27611     NaN  \n",
      "...       ...  \n",
      "151       NaN  \n",
      "155       NaN  \n",
      "159       NaN  \n",
      "168       NaN  \n",
      "220       NaN  \n",
      "224       NaN  \n",
      "226       NaN  \n",
      "229       NaN  \n",
      "289       NaN  \n",
      "139       NaN  \n",
      "137       NaN  \n",
      "136       NaN  \n",
      "124       NaN  \n",
      "114       NaN  \n",
      "117       NaN  \n",
      "118       NaN  \n",
      "119       NaN  \n",
      "121       NaN  \n",
      "122       NaN  \n",
      "123       NaN  \n",
      "125       NaN  \n",
      "134       NaN  \n",
      "126       NaN  \n",
      "127       NaN  \n",
      "128       NaN  \n",
      "129       NaN  \n",
      "130       NaN  \n",
      "131       NaN  \n",
      "132       NaN  \n",
      "2         NaN  \n",
      "\n",
      "[334 rows x 9 columns]\n"
     ]
    }
   ],
   "source": [
    "print(surveys_df[null_weight & species_dm].sort_values('year', ascending=False))"
   ]
  },
  {
   "cell_type": "markdown",
   "metadata": {},
   "source": [
    "## Combining multiple tables like with JOIN"
   ]
  },
  {
   "cell_type": "code",
   "execution_count": 20,
   "metadata": {},
   "outputs": [],
   "source": [
    "species_df = pd.read_csv('species.csv')"
   ]
  },
  {
   "cell_type": "code",
   "execution_count": 21,
   "metadata": {},
   "outputs": [
    {
     "name": "stdout",
     "output_type": "stream",
     "text": [
      "34786\n"
     ]
    }
   ],
   "source": [
    "mega_table = surveys_df.merge(species_df, on='species_id')\n",
    "print(len(mega_table))"
   ]
  },
  {
   "cell_type": "code",
   "execution_count": 22,
   "metadata": {},
   "outputs": [
    {
     "name": "stdout",
     "output_type": "stream",
     "text": [
      "54\n"
     ]
    }
   ],
   "source": [
    "print(len(species_df))"
   ]
  },
  {
   "cell_type": "code",
   "execution_count": 23,
   "metadata": {},
   "outputs": [
    {
     "name": "stdout",
     "output_type": "stream",
     "text": [
      "   record_id  month  day  year  plot_id species_id sex  hindfoot_length  \\\n",
      "0          1      7   16  1977        2         NL   M             32.0   \n",
      "1          2      7   16  1977        3         NL   M             33.0   \n",
      "2         22      7   17  1977       15         NL   F             31.0   \n",
      "3         38      7   17  1977       17         NL   M             33.0   \n",
      "4         72      8   19  1977        2         NL   M             31.0   \n",
      "\n",
      "   weight    genus   species    taxa  \n",
      "0     NaN  Neotoma  albigula  Rodent  \n",
      "1     NaN  Neotoma  albigula  Rodent  \n",
      "2     NaN  Neotoma  albigula  Rodent  \n",
      "3     NaN  Neotoma  albigula  Rodent  \n",
      "4     NaN  Neotoma  albigula  Rodent  \n"
     ]
    }
   ],
   "source": [
    "print(mega_table.head())"
   ]
  },
  {
   "cell_type": "code",
   "execution_count": 24,
   "metadata": {},
   "outputs": [
    {
     "name": "stdout",
     "output_type": "stream",
     "text": [
      "35549\n"
     ]
    }
   ],
   "source": [
    "left_joined = surveys_df.merge(species_df, on='species_id', how='left')\n",
    "print(len(left_joined))"
   ]
  },
  {
   "cell_type": "code",
   "execution_count": null,
   "metadata": {},
   "outputs": [],
   "source": []
  }
 ],
 "metadata": {
  "kernelspec": {
   "display_name": "Python [default]",
   "language": "python",
   "name": "python3"
  },
  "language_info": {
   "codemirror_mode": {
    "name": "ipython",
    "version": 3
   },
   "file_extension": ".py",
   "mimetype": "text/x-python",
   "name": "python",
   "nbconvert_exporter": "python",
   "pygments_lexer": "ipython3",
   "version": "3.5.2"
  }
 },
 "nbformat": 4,
 "nbformat_minor": 2
}
